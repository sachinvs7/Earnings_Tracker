{
 "cells": [
  {
   "cell_type": "code",
   "execution_count": 5,
   "id": "afcc7052",
   "metadata": {},
   "outputs": [],
   "source": [
    "import yfinance as yf\n",
    "import matplotlib.pyplot as plt\n",
    "#%matplotlib inline\n",
    "\n",
    "# Get current year and month, based on which get the exact previous year timestamp and set limit (or max)\n",
    "# Get the data for the stock \n",
    "# After getting stock data, explore stock.quarterly_financials - ending col 1\n",
    "\n",
    "# If col 1 is not within 2 weeks(?) prior to present, then say super latest fiscal quarter results are not out yet?\n",
    "# But above applies only for stocks where results are not out yet, proceed with others"
   ]
  },
  {
   "cell_type": "code",
   "execution_count": 6,
   "id": "005aba21",
   "metadata": {},
   "outputs": [
    {
     "name": "stdout",
     "output_type": "stream",
     "text": [
      "[*********************100%***********************]  1 of 1 completed\n"
     ]
    },
    {
     "data": {
      "text/plain": [
       "pandas.core.frame.DataFrame"
      ]
     },
     "execution_count": 6,
     "metadata": {},
     "output_type": "execute_result"
    }
   ],
   "source": [
    "data = yf.download('MSFT',period='max')\n",
    "\n",
    "type(data)"
   ]
  },
  {
   "cell_type": "code",
   "execution_count": 7,
   "id": "bf820f83",
   "metadata": {},
   "outputs": [
    {
     "data": {
      "text/plain": [
       "(9202, 6)"
      ]
     },
     "execution_count": 7,
     "metadata": {},
     "output_type": "execute_result"
    }
   ],
   "source": [
    "data.shape"
   ]
  },
  {
   "cell_type": "code",
   "execution_count": 8,
   "id": "996c16e6",
   "metadata": {},
   "outputs": [
    {
     "data": {
      "text/html": [
       "<div>\n",
       "<style scoped>\n",
       "    .dataframe tbody tr th:only-of-type {\n",
       "        vertical-align: middle;\n",
       "    }\n",
       "\n",
       "    .dataframe tbody tr th {\n",
       "        vertical-align: top;\n",
       "    }\n",
       "\n",
       "    .dataframe thead th {\n",
       "        text-align: right;\n",
       "    }\n",
       "</style>\n",
       "<table border=\"1\" class=\"dataframe\">\n",
       "  <thead>\n",
       "    <tr style=\"text-align: right;\">\n",
       "      <th></th>\n",
       "      <th>Open</th>\n",
       "      <th>High</th>\n",
       "      <th>Low</th>\n",
       "      <th>Close</th>\n",
       "      <th>Adj Close</th>\n",
       "      <th>Volume</th>\n",
       "    </tr>\n",
       "    <tr>\n",
       "      <th>Date</th>\n",
       "      <th></th>\n",
       "      <th></th>\n",
       "      <th></th>\n",
       "      <th></th>\n",
       "      <th></th>\n",
       "      <th></th>\n",
       "    </tr>\n",
       "  </thead>\n",
       "  <tbody>\n",
       "    <tr>\n",
       "      <th>2022-09-08</th>\n",
       "      <td>257.510010</td>\n",
       "      <td>260.429993</td>\n",
       "      <td>254.789993</td>\n",
       "      <td>258.519989</td>\n",
       "      <td>258.519989</td>\n",
       "      <td>20319900</td>\n",
       "    </tr>\n",
       "    <tr>\n",
       "      <th>2022-09-09</th>\n",
       "      <td>260.500000</td>\n",
       "      <td>265.230011</td>\n",
       "      <td>260.290009</td>\n",
       "      <td>264.459991</td>\n",
       "      <td>264.459991</td>\n",
       "      <td>22084700</td>\n",
       "    </tr>\n",
       "    <tr>\n",
       "      <th>2022-09-12</th>\n",
       "      <td>265.779999</td>\n",
       "      <td>267.450012</td>\n",
       "      <td>265.160004</td>\n",
       "      <td>266.649994</td>\n",
       "      <td>266.649994</td>\n",
       "      <td>18747700</td>\n",
       "    </tr>\n",
       "    <tr>\n",
       "      <th>2022-09-13</th>\n",
       "      <td>258.839996</td>\n",
       "      <td>260.399994</td>\n",
       "      <td>251.589996</td>\n",
       "      <td>251.990005</td>\n",
       "      <td>251.990005</td>\n",
       "      <td>33353300</td>\n",
       "    </tr>\n",
       "    <tr>\n",
       "      <th>2022-09-14</th>\n",
       "      <td>253.529999</td>\n",
       "      <td>254.229996</td>\n",
       "      <td>249.860001</td>\n",
       "      <td>252.220001</td>\n",
       "      <td>252.220001</td>\n",
       "      <td>23888500</td>\n",
       "    </tr>\n",
       "  </tbody>\n",
       "</table>\n",
       "</div>"
      ],
      "text/plain": [
       "                  Open        High         Low       Close   Adj Close  \\\n",
       "Date                                                                     \n",
       "2022-09-08  257.510010  260.429993  254.789993  258.519989  258.519989   \n",
       "2022-09-09  260.500000  265.230011  260.290009  264.459991  264.459991   \n",
       "2022-09-12  265.779999  267.450012  265.160004  266.649994  266.649994   \n",
       "2022-09-13  258.839996  260.399994  251.589996  251.990005  251.990005   \n",
       "2022-09-14  253.529999  254.229996  249.860001  252.220001  252.220001   \n",
       "\n",
       "              Volume  \n",
       "Date                  \n",
       "2022-09-08  20319900  \n",
       "2022-09-09  22084700  \n",
       "2022-09-12  18747700  \n",
       "2022-09-13  33353300  \n",
       "2022-09-14  23888500  "
      ]
     },
     "execution_count": 8,
     "metadata": {},
     "output_type": "execute_result"
    }
   ],
   "source": [
    "data.tail()"
   ]
  },
  {
   "cell_type": "code",
   "execution_count": 9,
   "id": "fba5219f",
   "metadata": {},
   "outputs": [],
   "source": [
    "msft = yf.Ticker(\"msft\")"
   ]
  },
  {
   "cell_type": "code",
   "execution_count": 10,
   "id": "27a4e7c4",
   "metadata": {},
   "outputs": [
    {
     "data": {
      "text/plain": [
       "yfinance.ticker.Ticker"
      ]
     },
     "execution_count": 10,
     "metadata": {},
     "output_type": "execute_result"
    }
   ],
   "source": [
    "type(msft)"
   ]
  },
  {
   "cell_type": "code",
   "execution_count": 11,
   "id": "c22b33a2",
   "metadata": {},
   "outputs": [
    {
     "data": {
      "text/plain": [
       "{'zip': '98052-6399',\n",
       " 'sector': 'Technology',\n",
       " 'fullTimeEmployees': 221000,\n",
       " 'longBusinessSummary': 'Microsoft Corporation develops, licenses, and supports software, services, devices, and solutions worldwide. The company operates in three segments: Productivity and Business Processes, Intelligent Cloud, and More Personal Computing. The Productivity and Business Processes segment offers Office, Exchange, SharePoint, Microsoft Teams, Office 365 Security and Compliance, Microsoft Viva, and Skype for Business; Skype, Outlook.com, OneDrive, and LinkedIn; and Dynamics 365, a set of cloud-based and on-premises business solutions for organizations and enterprise divisions. The Intelligent Cloud segment licenses SQL, Windows Servers, Visual Studio, System Center, and related Client Access Licenses; GitHub that provides a collaboration platform and code hosting service for developers; Nuance provides healthcare and enterprise AI solutions; and Azure, a cloud platform. It also offers enterprise support, Microsoft consulting, and nuance professional services to assist customers in developing, deploying, and managing Microsoft server and desktop solutions; and training and certification on Microsoft products. The More Personal Computing segment provides Windows original equipment manufacturer (OEM) licensing and other non-volume licensing of the Windows operating system; Windows Commercial, such as volume licensing of the Windows operating system, Windows cloud services, and other Windows commercial offerings; patent licensing; and Windows Internet of Things. It also offers Surface, PC accessories, PCs, tablets, gaming and entertainment consoles, and other devices; Gaming, including Xbox hardware, and Xbox content and services; video games and third-party video game royalties; and Search, including Bing and Microsoft advertising. The company sells its products through OEMs, distributors, and resellers; and directly through digital marketplaces, online stores, and retail stores. Microsoft Corporation was founded in 1975 and is headquartered in Redmond, Washington.',\n",
       " 'city': 'Redmond',\n",
       " 'phone': '425 882 8080',\n",
       " 'state': 'WA',\n",
       " 'country': 'United States',\n",
       " 'companyOfficers': [],\n",
       " 'website': 'https://www.microsoft.com',\n",
       " 'maxAge': 1,\n",
       " 'address1': 'One Microsoft Way',\n",
       " 'fax': '425 706 7329',\n",
       " 'industry': 'Software—Infrastructure',\n",
       " 'ebitdaMargins': 0.49418998,\n",
       " 'profitMargins': 0.36686,\n",
       " 'grossMargins': 0.68402,\n",
       " 'operatingCashflow': 89034997760,\n",
       " 'revenueGrowth': 0.124,\n",
       " 'operatingMargins': 0.42055,\n",
       " 'ebitda': 97982996480,\n",
       " 'targetLowPrice': 250,\n",
       " 'recommendationKey': 'buy',\n",
       " 'grossProfits': 135620000000,\n",
       " 'freeCashflow': 49479000064,\n",
       " 'targetMedianPrice': 330,\n",
       " 'currentPrice': 252.22,\n",
       " 'earningsGrowth': 0.031,\n",
       " 'currentRatio': 1.785,\n",
       " 'returnOnAssets': 0.14919,\n",
       " 'numberOfAnalystOpinions': 43,\n",
       " 'targetMeanPrice': 331.08,\n",
       " 'debtToEquity': 47.075,\n",
       " 'returnOnEquity': 0.47151002,\n",
       " 'targetHighPrice': 411,\n",
       " 'totalCash': 104748998656,\n",
       " 'totalDebt': 78399995904,\n",
       " 'totalRevenue': 198269992960,\n",
       " 'totalCashPerShare': 14.045,\n",
       " 'financialCurrency': 'USD',\n",
       " 'revenuePerShare': 26.45,\n",
       " 'quickRatio': 1.567,\n",
       " 'recommendationMean': 1.7,\n",
       " 'exchange': 'NMS',\n",
       " 'shortName': 'Microsoft Corporation',\n",
       " 'longName': 'Microsoft Corporation',\n",
       " 'exchangeTimezoneName': 'America/New_York',\n",
       " 'exchangeTimezoneShortName': 'EDT',\n",
       " 'isEsgPopulated': False,\n",
       " 'gmtOffSetMilliseconds': '-14400000',\n",
       " 'quoteType': 'EQUITY',\n",
       " 'symbol': 'MSFT',\n",
       " 'messageBoardId': 'finmb_21835',\n",
       " 'market': 'us_market',\n",
       " 'annualHoldingsTurnover': None,\n",
       " 'enterpriseToRevenue': 9.355,\n",
       " 'beta3Year': None,\n",
       " 'enterpriseToEbitda': 18.931,\n",
       " '52WeekChange': -0.17364526,\n",
       " 'morningStarRiskRating': None,\n",
       " 'forwardEps': 11.95,\n",
       " 'revenueQuarterlyGrowth': None,\n",
       " 'sharesOutstanding': 7457889792,\n",
       " 'fundInceptionDate': None,\n",
       " 'annualReportExpenseRatio': None,\n",
       " 'totalAssets': None,\n",
       " 'bookValue': 22.313,\n",
       " 'sharesShort': 40544332,\n",
       " 'sharesPercentSharesOut': 0.0054,\n",
       " 'fundFamily': None,\n",
       " 'lastFiscalYearEnd': 1656547200,\n",
       " 'heldPercentInstitutions': 0.72055,\n",
       " 'netIncomeToCommon': 72737996800,\n",
       " 'trailingEps': 9.65,\n",
       " 'lastDividendValue': 0.62,\n",
       " 'SandP52WeekChange': -0.11796367,\n",
       " 'priceToBook': 11.303724,\n",
       " 'heldPercentInsiders': 0.00077,\n",
       " 'nextFiscalYearEnd': 1719705600,\n",
       " 'yield': None,\n",
       " 'mostRecentQuarter': 1656547200,\n",
       " 'shortRatio': 1.95,\n",
       " 'sharesShortPreviousMonthDate': 1659052800,\n",
       " 'floatShares': 7451254348,\n",
       " 'beta': 0.942868,\n",
       " 'enterpriseValue': 1854904205312,\n",
       " 'priceHint': 2,\n",
       " 'threeYearAverageReturn': None,\n",
       " 'lastSplitDate': 1045526400,\n",
       " 'lastSplitFactor': '2:1',\n",
       " 'legalType': None,\n",
       " 'lastDividendDate': 1660694400,\n",
       " 'morningStarOverallRating': None,\n",
       " 'earningsQuarterlyGrowth': 0.017,\n",
       " 'priceToSalesTrailing12Months': 9.4785595,\n",
       " 'dateShortInterest': 1661904000,\n",
       " 'pegRatio': 1.62,\n",
       " 'ytdReturn': None,\n",
       " 'forwardPE': 21.106277,\n",
       " 'lastCapGain': None,\n",
       " 'shortPercentOfFloat': 0.0054,\n",
       " 'sharesShortPriorMonth': 38192351,\n",
       " 'impliedSharesOutstanding': 0,\n",
       " 'category': None,\n",
       " 'fiveYearAverageReturn': None,\n",
       " 'previousClose': 251.99,\n",
       " 'regularMarketOpen': 253.53,\n",
       " 'twoHundredDayAverage': 287.4391,\n",
       " 'trailingAnnualDividendYield': 0.00984166,\n",
       " 'payoutRatio': 0.2508,\n",
       " 'volume24Hr': None,\n",
       " 'regularMarketDayHigh': 254.23,\n",
       " 'navPrice': None,\n",
       " 'averageDailyVolume10Day': 23474580,\n",
       " 'regularMarketPreviousClose': 251.99,\n",
       " 'fiftyDayAverage': 269.9292,\n",
       " 'trailingAnnualDividendRate': 2.48,\n",
       " 'open': 253.53,\n",
       " 'toCurrency': None,\n",
       " 'averageVolume10days': 23474580,\n",
       " 'expireDate': None,\n",
       " 'algorithm': None,\n",
       " 'dividendRate': 2.48,\n",
       " 'exDividendDate': 1660694400,\n",
       " 'circulatingSupply': None,\n",
       " 'startDate': None,\n",
       " 'regularMarketDayLow': 249.86,\n",
       " 'currency': 'USD',\n",
       " 'trailingPE': 26.13679,\n",
       " 'regularMarketVolume': 21984897,\n",
       " 'lastMarket': None,\n",
       " 'maxSupply': None,\n",
       " 'openInterest': None,\n",
       " 'marketCap': 1879313874944,\n",
       " 'volumeAllCurrencies': None,\n",
       " 'strikePrice': None,\n",
       " 'averageVolume': 24477766,\n",
       " 'dayLow': 249.86,\n",
       " 'ask': 251.2,\n",
       " 'askSize': 1100,\n",
       " 'volume': 21984897,\n",
       " 'fiftyTwoWeekHigh': 349.67,\n",
       " 'fromCurrency': None,\n",
       " 'fiveYearAvgDividendYield': 1.21,\n",
       " 'fiftyTwoWeekLow': 241.51,\n",
       " 'bid': 251.55,\n",
       " 'tradeable': False,\n",
       " 'dividendYield': 0.0098,\n",
       " 'bidSize': 900,\n",
       " 'dayHigh': 254.23,\n",
       " 'coinMarketCapLink': None,\n",
       " 'regularMarketPrice': 252.22,\n",
       " 'preMarketPrice': 251.82,\n",
       " 'logo_url': 'https://logo.clearbit.com/microsoft.com',\n",
       " 'trailingPegRatio': 1.963}"
      ]
     },
     "execution_count": 11,
     "metadata": {},
     "output_type": "execute_result"
    }
   ],
   "source": [
    "msft.info"
   ]
  },
  {
   "cell_type": "code",
   "execution_count": 12,
   "id": "a4924e6a",
   "metadata": {},
   "outputs": [
    {
     "data": {
      "text/plain": [
       "(252.22,)"
      ]
     },
     "execution_count": 12,
     "metadata": {},
     "output_type": "execute_result"
    }
   ],
   "source": [
    "msft.info['currentPrice'], # ROE, FEPS, TEPS"
   ]
  },
  {
   "cell_type": "code",
   "execution_count": 45,
   "id": "3ff14cce",
   "metadata": {},
   "outputs": [
    {
     "data": {
      "text/html": [
       "<div>\n",
       "<style scoped>\n",
       "    .dataframe tbody tr th:only-of-type {\n",
       "        vertical-align: middle;\n",
       "    }\n",
       "\n",
       "    .dataframe tbody tr th {\n",
       "        vertical-align: top;\n",
       "    }\n",
       "\n",
       "    .dataframe thead th {\n",
       "        text-align: right;\n",
       "    }\n",
       "</style>\n",
       "<table border=\"1\" class=\"dataframe\">\n",
       "  <thead>\n",
       "    <tr style=\"text-align: right;\">\n",
       "      <th></th>\n",
       "      <th>2022-06-30</th>\n",
       "      <th>2022-03-31</th>\n",
       "      <th>2021-12-31</th>\n",
       "      <th>2021-09-30</th>\n",
       "    </tr>\n",
       "  </thead>\n",
       "  <tbody>\n",
       "    <tr>\n",
       "      <th>Research Development</th>\n",
       "      <td>6849000000.0</td>\n",
       "      <td>6306000000.0</td>\n",
       "      <td>5758000000.0</td>\n",
       "      <td>5599000000.0</td>\n",
       "    </tr>\n",
       "    <tr>\n",
       "      <th>Effect Of Accounting Charges</th>\n",
       "      <td>None</td>\n",
       "      <td>None</td>\n",
       "      <td>None</td>\n",
       "      <td>None</td>\n",
       "    </tr>\n",
       "    <tr>\n",
       "      <th>Income Before Tax</th>\n",
       "      <td>20487000000.0</td>\n",
       "      <td>20190000000.0</td>\n",
       "      <td>22515000000.0</td>\n",
       "      <td>20524000000.0</td>\n",
       "    </tr>\n",
       "    <tr>\n",
       "      <th>Minority Interest</th>\n",
       "      <td>None</td>\n",
       "      <td>None</td>\n",
       "      <td>None</td>\n",
       "      <td>None</td>\n",
       "    </tr>\n",
       "    <tr>\n",
       "      <th>Net Income</th>\n",
       "      <td>16740000000.0</td>\n",
       "      <td>16728000000.0</td>\n",
       "      <td>18765000000.0</td>\n",
       "      <td>20505000000.0</td>\n",
       "    </tr>\n",
       "    <tr>\n",
       "      <th>Selling General Administrative</th>\n",
       "      <td>8053000000.0</td>\n",
       "      <td>7075000000.0</td>\n",
       "      <td>6763000000.0</td>\n",
       "      <td>5834000000.0</td>\n",
       "    </tr>\n",
       "    <tr>\n",
       "      <th>Gross Profit</th>\n",
       "      <td>35436000000.0</td>\n",
       "      <td>33745000000.0</td>\n",
       "      <td>34768000000.0</td>\n",
       "      <td>31671000000.0</td>\n",
       "    </tr>\n",
       "    <tr>\n",
       "      <th>Ebit</th>\n",
       "      <td>20534000000.0</td>\n",
       "      <td>20364000000.0</td>\n",
       "      <td>22247000000.0</td>\n",
       "      <td>20238000000.0</td>\n",
       "    </tr>\n",
       "    <tr>\n",
       "      <th>Operating Income</th>\n",
       "      <td>20534000000.0</td>\n",
       "      <td>20364000000.0</td>\n",
       "      <td>22247000000.0</td>\n",
       "      <td>20238000000.0</td>\n",
       "    </tr>\n",
       "    <tr>\n",
       "      <th>Other Operating Expenses</th>\n",
       "      <td>None</td>\n",
       "      <td>None</td>\n",
       "      <td>None</td>\n",
       "      <td>None</td>\n",
       "    </tr>\n",
       "    <tr>\n",
       "      <th>Interest Expense</th>\n",
       "      <td>-492000000.0</td>\n",
       "      <td>-499000000.0</td>\n",
       "      <td>-521000000.0</td>\n",
       "      <td>-535000000.0</td>\n",
       "    </tr>\n",
       "    <tr>\n",
       "      <th>Extraordinary Items</th>\n",
       "      <td>None</td>\n",
       "      <td>None</td>\n",
       "      <td>None</td>\n",
       "      <td>None</td>\n",
       "    </tr>\n",
       "    <tr>\n",
       "      <th>Non Recurring</th>\n",
       "      <td>None</td>\n",
       "      <td>None</td>\n",
       "      <td>None</td>\n",
       "      <td>None</td>\n",
       "    </tr>\n",
       "    <tr>\n",
       "      <th>Other Items</th>\n",
       "      <td>None</td>\n",
       "      <td>None</td>\n",
       "      <td>None</td>\n",
       "      <td>None</td>\n",
       "    </tr>\n",
       "    <tr>\n",
       "      <th>Income Tax Expense</th>\n",
       "      <td>3747000000.0</td>\n",
       "      <td>3462000000.0</td>\n",
       "      <td>3750000000.0</td>\n",
       "      <td>19000000.0</td>\n",
       "    </tr>\n",
       "    <tr>\n",
       "      <th>Total Revenue</th>\n",
       "      <td>51865000000.0</td>\n",
       "      <td>49360000000.0</td>\n",
       "      <td>51728000000.0</td>\n",
       "      <td>45317000000.0</td>\n",
       "    </tr>\n",
       "    <tr>\n",
       "      <th>Total Operating Expenses</th>\n",
       "      <td>31331000000.0</td>\n",
       "      <td>28996000000.0</td>\n",
       "      <td>29481000000.0</td>\n",
       "      <td>25079000000.0</td>\n",
       "    </tr>\n",
       "    <tr>\n",
       "      <th>Cost Of Revenue</th>\n",
       "      <td>16429000000.0</td>\n",
       "      <td>15615000000.0</td>\n",
       "      <td>16960000000.0</td>\n",
       "      <td>13646000000.0</td>\n",
       "    </tr>\n",
       "    <tr>\n",
       "      <th>Total Other Income Expense Net</th>\n",
       "      <td>-47000000.0</td>\n",
       "      <td>-174000000.0</td>\n",
       "      <td>268000000.0</td>\n",
       "      <td>286000000.0</td>\n",
       "    </tr>\n",
       "    <tr>\n",
       "      <th>Discontinued Operations</th>\n",
       "      <td>None</td>\n",
       "      <td>None</td>\n",
       "      <td>None</td>\n",
       "      <td>None</td>\n",
       "    </tr>\n",
       "    <tr>\n",
       "      <th>Net Income From Continuing Ops</th>\n",
       "      <td>16740000000.0</td>\n",
       "      <td>16728000000.0</td>\n",
       "      <td>18765000000.0</td>\n",
       "      <td>20505000000.0</td>\n",
       "    </tr>\n",
       "    <tr>\n",
       "      <th>Net Income Applicable To Common Shares</th>\n",
       "      <td>16740000000.0</td>\n",
       "      <td>16728000000.0</td>\n",
       "      <td>18765000000.0</td>\n",
       "      <td>20505000000.0</td>\n",
       "    </tr>\n",
       "  </tbody>\n",
       "</table>\n",
       "</div>"
      ],
      "text/plain": [
       "                                           2022-06-30     2022-03-31  \\\n",
       "Research Development                     6849000000.0   6306000000.0   \n",
       "Effect Of Accounting Charges                     None           None   \n",
       "Income Before Tax                       20487000000.0  20190000000.0   \n",
       "Minority Interest                                None           None   \n",
       "Net Income                              16740000000.0  16728000000.0   \n",
       "Selling General Administrative           8053000000.0   7075000000.0   \n",
       "Gross Profit                            35436000000.0  33745000000.0   \n",
       "Ebit                                    20534000000.0  20364000000.0   \n",
       "Operating Income                        20534000000.0  20364000000.0   \n",
       "Other Operating Expenses                         None           None   \n",
       "Interest Expense                         -492000000.0   -499000000.0   \n",
       "Extraordinary Items                              None           None   \n",
       "Non Recurring                                    None           None   \n",
       "Other Items                                      None           None   \n",
       "Income Tax Expense                       3747000000.0   3462000000.0   \n",
       "Total Revenue                           51865000000.0  49360000000.0   \n",
       "Total Operating Expenses                31331000000.0  28996000000.0   \n",
       "Cost Of Revenue                         16429000000.0  15615000000.0   \n",
       "Total Other Income Expense Net            -47000000.0   -174000000.0   \n",
       "Discontinued Operations                          None           None   \n",
       "Net Income From Continuing Ops          16740000000.0  16728000000.0   \n",
       "Net Income Applicable To Common Shares  16740000000.0  16728000000.0   \n",
       "\n",
       "                                           2021-12-31     2021-09-30  \n",
       "Research Development                     5758000000.0   5599000000.0  \n",
       "Effect Of Accounting Charges                     None           None  \n",
       "Income Before Tax                       22515000000.0  20524000000.0  \n",
       "Minority Interest                                None           None  \n",
       "Net Income                              18765000000.0  20505000000.0  \n",
       "Selling General Administrative           6763000000.0   5834000000.0  \n",
       "Gross Profit                            34768000000.0  31671000000.0  \n",
       "Ebit                                    22247000000.0  20238000000.0  \n",
       "Operating Income                        22247000000.0  20238000000.0  \n",
       "Other Operating Expenses                         None           None  \n",
       "Interest Expense                         -521000000.0   -535000000.0  \n",
       "Extraordinary Items                              None           None  \n",
       "Non Recurring                                    None           None  \n",
       "Other Items                                      None           None  \n",
       "Income Tax Expense                       3750000000.0     19000000.0  \n",
       "Total Revenue                           51728000000.0  45317000000.0  \n",
       "Total Operating Expenses                29481000000.0  25079000000.0  \n",
       "Cost Of Revenue                         16960000000.0  13646000000.0  \n",
       "Total Other Income Expense Net            268000000.0    286000000.0  \n",
       "Discontinued Operations                          None           None  \n",
       "Net Income From Continuing Ops          18765000000.0  20505000000.0  \n",
       "Net Income Applicable To Common Shares  18765000000.0  20505000000.0  "
      ]
     },
     "execution_count": 45,
     "metadata": {},
     "output_type": "execute_result"
    }
   ],
   "source": [
    "msft.quarterly_financials"
   ]
  },
  {
   "cell_type": "code",
   "execution_count": 44,
   "id": "2d368adf",
   "metadata": {},
   "outputs": [
    {
     "data": {
      "text/html": [
       "<div>\n",
       "<style scoped>\n",
       "    .dataframe tbody tr th:only-of-type {\n",
       "        vertical-align: middle;\n",
       "    }\n",
       "\n",
       "    .dataframe tbody tr th {\n",
       "        vertical-align: top;\n",
       "    }\n",
       "\n",
       "    .dataframe thead th {\n",
       "        text-align: right;\n",
       "    }\n",
       "</style>\n",
       "<table border=\"1\" class=\"dataframe\">\n",
       "  <thead>\n",
       "    <tr style=\"text-align: right;\">\n",
       "      <th></th>\n",
       "      <th>yooo</th>\n",
       "    </tr>\n",
       "  </thead>\n",
       "  <tbody>\n",
       "    <tr>\n",
       "      <th>Research Development</th>\n",
       "      <td>6849000000.0</td>\n",
       "    </tr>\n",
       "    <tr>\n",
       "      <th>Effect Of Accounting Charges</th>\n",
       "      <td>None</td>\n",
       "    </tr>\n",
       "    <tr>\n",
       "      <th>Income Before Tax</th>\n",
       "      <td>20487000000.0</td>\n",
       "    </tr>\n",
       "    <tr>\n",
       "      <th>Minority Interest</th>\n",
       "      <td>None</td>\n",
       "    </tr>\n",
       "    <tr>\n",
       "      <th>Net Income</th>\n",
       "      <td>16740000000.0</td>\n",
       "    </tr>\n",
       "    <tr>\n",
       "      <th>Selling General Administrative</th>\n",
       "      <td>8053000000.0</td>\n",
       "    </tr>\n",
       "    <tr>\n",
       "      <th>Gross Profit</th>\n",
       "      <td>35436000000.0</td>\n",
       "    </tr>\n",
       "    <tr>\n",
       "      <th>Ebit</th>\n",
       "      <td>20534000000.0</td>\n",
       "    </tr>\n",
       "    <tr>\n",
       "      <th>Operating Income</th>\n",
       "      <td>20534000000.0</td>\n",
       "    </tr>\n",
       "    <tr>\n",
       "      <th>Other Operating Expenses</th>\n",
       "      <td>None</td>\n",
       "    </tr>\n",
       "    <tr>\n",
       "      <th>Interest Expense</th>\n",
       "      <td>-492000000.0</td>\n",
       "    </tr>\n",
       "    <tr>\n",
       "      <th>Extraordinary Items</th>\n",
       "      <td>None</td>\n",
       "    </tr>\n",
       "    <tr>\n",
       "      <th>Non Recurring</th>\n",
       "      <td>None</td>\n",
       "    </tr>\n",
       "    <tr>\n",
       "      <th>Other Items</th>\n",
       "      <td>None</td>\n",
       "    </tr>\n",
       "    <tr>\n",
       "      <th>Income Tax Expense</th>\n",
       "      <td>3747000000.0</td>\n",
       "    </tr>\n",
       "    <tr>\n",
       "      <th>Total Revenue</th>\n",
       "      <td>51865000000.0</td>\n",
       "    </tr>\n",
       "    <tr>\n",
       "      <th>Total Operating Expenses</th>\n",
       "      <td>31331000000.0</td>\n",
       "    </tr>\n",
       "    <tr>\n",
       "      <th>Cost Of Revenue</th>\n",
       "      <td>16429000000.0</td>\n",
       "    </tr>\n",
       "    <tr>\n",
       "      <th>Total Other Income Expense Net</th>\n",
       "      <td>-47000000.0</td>\n",
       "    </tr>\n",
       "    <tr>\n",
       "      <th>Discontinued Operations</th>\n",
       "      <td>None</td>\n",
       "    </tr>\n",
       "    <tr>\n",
       "      <th>Net Income From Continuing Ops</th>\n",
       "      <td>16740000000.0</td>\n",
       "    </tr>\n",
       "    <tr>\n",
       "      <th>Net Income Applicable To Common Shares</th>\n",
       "      <td>16740000000.0</td>\n",
       "    </tr>\n",
       "  </tbody>\n",
       "</table>\n",
       "</div>"
      ],
      "text/plain": [
       "                                                 yooo\n",
       "Research Development                     6849000000.0\n",
       "Effect Of Accounting Charges                     None\n",
       "Income Before Tax                       20487000000.0\n",
       "Minority Interest                                None\n",
       "Net Income                              16740000000.0\n",
       "Selling General Administrative           8053000000.0\n",
       "Gross Profit                            35436000000.0\n",
       "Ebit                                    20534000000.0\n",
       "Operating Income                        20534000000.0\n",
       "Other Operating Expenses                         None\n",
       "Interest Expense                         -492000000.0\n",
       "Extraordinary Items                              None\n",
       "Non Recurring                                    None\n",
       "Other Items                                      None\n",
       "Income Tax Expense                       3747000000.0\n",
       "Total Revenue                           51865000000.0\n",
       "Total Operating Expenses                31331000000.0\n",
       "Cost Of Revenue                         16429000000.0\n",
       "Total Other Income Expense Net            -47000000.0\n",
       "Discontinued Operations                          None\n",
       "Net Income From Continuing Ops          16740000000.0\n",
       "Net Income Applicable To Common Shares  16740000000.0"
      ]
     },
     "execution_count": 44,
     "metadata": {},
     "output_type": "execute_result"
    }
   ],
   "source": [
    "msftqf = msft.quarterly_financials.copy()\n",
    "msftqf.columns = msftqf.columns.strftime(\"%Y-%m-%d\")\n",
    "\n",
    "msftqf = msftqf.rename(columns={'2022-03-31': 'aaa', '2021-12-31': 'ccc'})\n",
    "msftqf.drop(['aaa','ccc','2021-09-30'],axis = 1,inplace=True)\n",
    "#msftqf.columns = [''] * len(msftqf.columns)\n",
    "\n",
    "msftqf = msftqf.rename(columns={'2022-06-30': 'yooo'})\n",
    "msftqf.style.set_properties(**{'color': 'black !important','border': '1px black solid !important'}).set_table_styles([{\n",
    "    'selector': 'th',\n",
    "    'props': [('border', '1px black solid !important')]}])\n",
    "msftqf"
   ]
  },
  {
   "cell_type": "code",
   "execution_count": 14,
   "id": "329cffcd",
   "metadata": {},
   "outputs": [
    {
     "name": "stdout",
     "output_type": "stream",
     "text": [
      "[*********************100%***********************]  1 of 1 completed\n"
     ]
    }
   ],
   "source": [
    "import yfinance as yf\n",
    "datatest = yf.download('AAPL','2021-01-01','2022-12-30')"
   ]
  },
  {
   "cell_type": "code",
   "execution_count": 15,
   "id": "8d723c9d",
   "metadata": {},
   "outputs": [
    {
     "name": "stdout",
     "output_type": "stream",
     "text": [
      "[*********************100%***********************]  1 of 1 completed\n"
     ]
    }
   ],
   "source": [
    "import datetime;\n",
    "from dateutil.relativedelta import relativedelta\n",
    "  \n",
    "dt = datetime.datetime.now()\n",
    "dt = datetime.datetime(dt.year, dt.month, dt.day)\n",
    "\n",
    "dt_1yr_ago = datetime.datetime.now() - relativedelta(years=1)\n",
    "dt_1yr_ago  = datetime.datetime(dt_1yr_ago.year, dt_1yr_ago.month, dt_1yr_ago.day)\n",
    "\n",
    "\n",
    "datatest = yf.download('AAPL',period='max')\n",
    "stock = yf.Ticker(\"AAPL\")"
   ]
  },
  {
   "cell_type": "code",
   "execution_count": 16,
   "id": "44bb8ca6",
   "metadata": {},
   "outputs": [
    {
     "data": {
      "text/plain": [
       "Timestamp('2022-06-25 00:00:00')"
      ]
     },
     "execution_count": 16,
     "metadata": {},
     "output_type": "execute_result"
    }
   ],
   "source": [
    "maincol = stock.quarterly_financials.columns[0]\n",
    "maincol"
   ]
  },
  {
   "cell_type": "code",
   "execution_count": 17,
   "id": "779be4a3",
   "metadata": {},
   "outputs": [
    {
     "data": {
      "text/plain": [
       "datetime.date(2022, 6, 25)"
      ]
     },
     "execution_count": 17,
     "metadata": {},
     "output_type": "execute_result"
    }
   ],
   "source": [
    "d1 = maincol.date()\n",
    "d1"
   ]
  },
  {
   "cell_type": "code",
   "execution_count": 18,
   "id": "7886f417",
   "metadata": {},
   "outputs": [
    {
     "data": {
      "text/plain": [
       "datetime.date(2022, 9, 15)"
      ]
     },
     "execution_count": 18,
     "metadata": {},
     "output_type": "execute_result"
    }
   ],
   "source": [
    "d2 = dt.date()\n",
    "d2"
   ]
  },
  {
   "cell_type": "code",
   "execution_count": 19,
   "id": "095114f8",
   "metadata": {},
   "outputs": [
    {
     "data": {
      "text/plain": [
       "82"
      ]
     },
     "execution_count": 19,
     "metadata": {},
     "output_type": "execute_result"
    }
   ],
   "source": [
    "from datetime import datetime\n",
    "\n",
    "def days_between(d1, d2):\n",
    "    d1 = datetime.strptime(d1, \"%Y-%m-%d\")\n",
    "    d2 = datetime.strptime(d2, \"%Y-%m-%d\")\n",
    "    return abs((d2 - d1).days)\n",
    "\n",
    "dif_count = days_between(str(d1),str(d2))\n",
    "\n",
    "dif_count # Number of days since the quarter ended"
   ]
  },
  {
   "cell_type": "code",
   "execution_count": 20,
   "id": "62b3ebf5",
   "metadata": {},
   "outputs": [],
   "source": [
    "# If it exceeds by 40 days then say that the latest, latest quarter results aren't out yet ?"
   ]
  },
  {
   "cell_type": "code",
   "execution_count": 21,
   "id": "ef566924",
   "metadata": {},
   "outputs": [
    {
     "data": {
      "text/plain": [
       "(datetime.date(2022, 6, 25), datetime.date(2022, 9, 15))"
      ]
     },
     "execution_count": 21,
     "metadata": {},
     "output_type": "execute_result"
    }
   ],
   "source": [
    "d1, d2"
   ]
  },
  {
   "cell_type": "code",
   "execution_count": 22,
   "id": "849e3212",
   "metadata": {},
   "outputs": [
    {
     "data": {
      "text/plain": [
       "(Timestamp('2022-06-25 00:00:00'), Timestamp('2022-03-26 00:00:00'))"
      ]
     },
     "execution_count": 22,
     "metadata": {},
     "output_type": "execute_result"
    }
   ],
   "source": [
    "maincol_prev_q = stock.quarterly_financials.columns[1]\n",
    "maincol,maincol_prev_q\n",
    "\n",
    "# Quarter ended x, Quarter ended y"
   ]
  },
  {
   "cell_type": "code",
   "execution_count": 23,
   "id": "7d94a33c",
   "metadata": {},
   "outputs": [
    {
     "data": {
      "text/plain": [
       "(Timestamp('2021-06-25 00:00:00'), Timestamp('2021-03-26 00:00:00'))"
      ]
     },
     "execution_count": 23,
     "metadata": {},
     "output_type": "execute_result"
    }
   ],
   "source": [
    "dt_1yr_ago_l1 = maincol - relativedelta(years=1)\n",
    "dt_1yr_ago_l2  = maincol_prev_q - relativedelta(years=1)\n",
    "\n",
    "dt_1yr_ago_l1, dt_1yr_ago_l2\n",
    "\n",
    "# Quarter ended x, Quarter ended y : but 1 year before"
   ]
  },
  {
   "cell_type": "code",
   "execution_count": 24,
   "id": "0f77d4da",
   "metadata": {},
   "outputs": [
    {
     "data": {
      "text/plain": [
       "<AxesSubplot:xlabel='Date'>"
      ]
     },
     "execution_count": 24,
     "metadata": {},
     "output_type": "execute_result"
    },
    {
     "data": {
      "image/png": "[encoded data removed]",
      "text/plain": [
       "<Figure size 432x288 with 1 Axes>"
      ]
     },
     "metadata": {
      "needs_background": "light"
     },
     "output_type": "display_data"
    }
   ],
   "source": [
    "datatest1 = datatest.loc[datatest.index >= dt_1yr_ago_l2]\n",
    "datatest1 = datatest1.loc[datatest1.index <= dt_1yr_ago_l1]\n",
    "datatest1['Adj Close'].plot()"
   ]
  },
  {
   "cell_type": "code",
   "execution_count": 25,
   "id": "9e8b06ab",
   "metadata": {},
   "outputs": [
    {
     "data": {
      "text/plain": [
       "(64, 6)"
      ]
     },
     "execution_count": 25,
     "metadata": {},
     "output_type": "execute_result"
    }
   ],
   "source": [
    "datatest1.shape"
   ]
  },
  {
   "cell_type": "code",
   "execution_count": 26,
   "id": "28d0d19b",
   "metadata": {},
   "outputs": [
    {
     "data": {
      "text/plain": [
       "<AxesSubplot:title={'center':'Same Quarter Last Year'}, xlabel='Date'>"
      ]
     },
     "execution_count": 26,
     "metadata": {},
     "output_type": "execute_result"
    },
    {
     "data": {
      "image/png": "[encoded data removed]",
      "text/plain": [
       "<Figure size 432x288 with 1 Axes>"
      ]
     },
     "metadata": {
      "needs_background": "light"
     },
     "output_type": "display_data"
    }
   ],
   "source": [
    "datatest1.plot(kind='line', legend=False, grid=True, y='Adj Close', title=\"Same Quarter Last Year\")\n"
   ]
  },
  {
   "cell_type": "code",
   "execution_count": 27,
   "id": "1031a887",
   "metadata": {},
   "outputs": [
    {
     "data": {
      "text/plain": [
       "<AxesSubplot:xlabel='Date'>"
      ]
     },
     "execution_count": 27,
     "metadata": {},
     "output_type": "execute_result"
    },
    {
     "data": {
      "image/png": "[encoded data removed]",
      "text/plain": [
       "<Figure size 432x288 with 1 Axes>"
      ]
     },
     "metadata": {
      "needs_background": "light"
     },
     "output_type": "display_data"
    }
   ],
   "source": [
    "datatest2 = datatest.loc[datatest.index >= maincol_prev_q]\n",
    "datatest2 = datatest2.loc[datatest2.index <= maincol]\n",
    "datatest2['Adj Close'].plot() # Latest"
   ]
  },
  {
   "cell_type": "code",
   "execution_count": 28,
   "id": "6bfc55d2",
   "metadata": {},
   "outputs": [],
   "source": [
    "data_rec = stock.recommendations\n",
    "data_rec = data_rec.loc[data_rec.index >= maincol]\n",
    "rec = data_rec['To Grade'].value_counts().index[0]"
   ]
  },
  {
   "cell_type": "code",
   "execution_count": 29,
   "id": "b2ef70f8",
   "metadata": {},
   "outputs": [
    {
     "data": {
      "text/plain": [
       "'English_United States.1252'"
      ]
     },
     "execution_count": 29,
     "metadata": {},
     "output_type": "execute_result"
    }
   ],
   "source": [
    "import locale\n",
    "locale.setlocale( locale.LC_ALL, '' )"
   ]
  },
  {
   "cell_type": "code",
   "execution_count": 30,
   "id": "5a60babb",
   "metadata": {},
   "outputs": [],
   "source": [
    "vallist = []\n",
    "vallist.append(locale.currency(stock.quarterly_financials[maincol]['Total Revenue'], grouping=True))\n",
    "vallist.append(locale.currency(stock.quarterly_financials[maincol]['Total Operating Expenses'], grouping=True))\n",
    "vallist.append(locale.currency(stock.quarterly_financials[maincol]['Gross Profit'], grouping=True))\n",
    "vallist.append(locale.currency(stock.quarterly_financials[maincol]['Net Income'], grouping=True))\n",
    "vallist.append(locale.currency(stock.quarterly_financials[maincol]['Ebit'], grouping=True))\n",
    "vallist.append(str(stock.info['returnOnEquity']*100)+'%')\n",
    "vallist.append('$' + str(stock.info['forwardEps']))\n",
    "vallist.append('$' + str(stock.info['trailingEps']))\n",
    "vallist.append(str(stock.info['earningsGrowth'])+'%')\n",
    "vallist.append('$' + str(stock.info['revenuePerShare']))\n",
    "vallist.append(locale.currency(stock.info['enterpriseValue'], grouping=True))\n",
    "vallist.append(rec)"
   ]
  },
  {
   "cell_type": "code",
   "execution_count": 31,
   "id": "6dd41564",
   "metadata": {},
   "outputs": [
    {
     "data": {
      "text/plain": [
       "['$82,959,000,000.00',\n",
       " '$59,883,000,000.00',\n",
       " '$35,885,000,000.00',\n",
       " '$19,442,000,000.00',\n",
       " '$23,076,000,000.00',\n",
       " '162.816%',\n",
       " '$6.44',\n",
       " '$6.05',\n",
       " '-0.077%',\n",
       " '$23.732',\n",
       " '$2,569,337,044,992.00',\n",
       " 'Overweight']"
      ]
     },
     "execution_count": 31,
     "metadata": {},
     "output_type": "execute_result"
    }
   ],
   "source": [
    "vallist"
   ]
  },
  {
   "cell_type": "code",
   "execution_count": 32,
   "id": "74b053cb",
   "metadata": {},
   "outputs": [
    {
     "data": {
      "text/html": [
       "<div>\n",
       "<style scoped>\n",
       "    .dataframe tbody tr th:only-of-type {\n",
       "        vertical-align: middle;\n",
       "    }\n",
       "\n",
       "    .dataframe tbody tr th {\n",
       "        vertical-align: top;\n",
       "    }\n",
       "\n",
       "    .dataframe thead th {\n",
       "        text-align: right;\n",
       "    }\n",
       "</style>\n",
       "<table border=\"1\" class=\"dataframe\">\n",
       "  <thead>\n",
       "    <tr style=\"text-align: right;\">\n",
       "      <th></th>\n",
       "      <th>0</th>\n",
       "    </tr>\n",
       "  </thead>\n",
       "  <tbody>\n",
       "    <tr>\n",
       "      <th>Total Revenue</th>\n",
       "      <td>$82,959,000,000.00</td>\n",
       "    </tr>\n",
       "    <tr>\n",
       "      <th>Total Operating Expenses</th>\n",
       "      <td>$59,883,000,000.00</td>\n",
       "    </tr>\n",
       "    <tr>\n",
       "      <th>Gross Profit</th>\n",
       "      <td>$35,885,000,000.00</td>\n",
       "    </tr>\n",
       "    <tr>\n",
       "      <th>Net Income</th>\n",
       "      <td>$19,442,000,000.00</td>\n",
       "    </tr>\n",
       "    <tr>\n",
       "      <th>EBIT</th>\n",
       "      <td>$23,076,000,000.00</td>\n",
       "    </tr>\n",
       "    <tr>\n",
       "      <th>Return On Equity</th>\n",
       "      <td>162.816%</td>\n",
       "    </tr>\n",
       "    <tr>\n",
       "      <th>Forward EPS</th>\n",
       "      <td>$6.44</td>\n",
       "    </tr>\n",
       "    <tr>\n",
       "      <th>Trailing EPS</th>\n",
       "      <td>$6.05</td>\n",
       "    </tr>\n",
       "    <tr>\n",
       "      <th>Earnings Growth</th>\n",
       "      <td>-0.077%</td>\n",
       "    </tr>\n",
       "    <tr>\n",
       "      <th>Revenue Per Share</th>\n",
       "      <td>$23.732</td>\n",
       "    </tr>\n",
       "    <tr>\n",
       "      <th>Enterprise Value</th>\n",
       "      <td>$2,569,337,044,992.00</td>\n",
       "    </tr>\n",
       "    <tr>\n",
       "      <th>Analyst Majority Recommendation</th>\n",
       "      <td>Overweight</td>\n",
       "    </tr>\n",
       "  </tbody>\n",
       "</table>\n",
       "</div>"
      ],
      "text/plain": [
       "                                                     0\n",
       "Total Revenue                       $82,959,000,000.00\n",
       "Total Operating Expenses            $59,883,000,000.00\n",
       "Gross Profit                        $35,885,000,000.00\n",
       "Net Income                          $19,442,000,000.00\n",
       "EBIT                                $23,076,000,000.00\n",
       "Return On Equity                              162.816%\n",
       "Forward EPS                                      $6.44\n",
       "Trailing EPS                                     $6.05\n",
       "Earnings Growth                                -0.077%\n",
       "Revenue Per Share                              $23.732\n",
       "Enterprise Value                 $2,569,337,044,992.00\n",
       "Analyst Majority Recommendation             Overweight"
      ]
     },
     "execution_count": 32,
     "metadata": {},
     "output_type": "execute_result"
    }
   ],
   "source": [
    "import pandas as pd\n",
    "info_df = pd.DataFrame([vallist],columns=['Total Revenue','Total Operating Expenses',\n",
    "                                          'Gross Profit', 'Net Income', 'EBIT',\n",
    "                                          'Return On Equity', 'Forward EPS', 'Trailing EPS',\n",
    "                                          'Earnings Growth', 'Revenue Per Share', 'Enterprise Value',\n",
    "                                          'Analyst Majority Recommendation'])\n",
    "info_df.T"
   ]
  },
  {
   "cell_type": "code",
   "execution_count": 33,
   "id": "c8dd6161",
   "metadata": {},
   "outputs": [
    {
     "data": {
      "text/plain": [
       "\"Index(['Total Revenue: $82,959,000,000.00',\\n       'Total Operating Expenses: $59,883,000,000.00',\\n       'Gross Profit: $35,885,000,000.00', 'Net Income: $19,442,000,000.00',\\n       'EBIT: $23,076,000,000.00', 'Return On Equity: 162.816%',\\n       'Forward EPS: $6.44', 'Trailing EPS: $6.05', 'Earnings Growth: -0.077%',\\n       'Revenue Per Share: $23.732', 'Enterprise Value: $2,569,337,044,992.00',\\n       'Analyst Majority Recommendation: Overweight'],\\n      dtype='object')\""
      ]
     },
     "execution_count": 33,
     "metadata": {},
     "output_type": "execute_result"
    }
   ],
   "source": [
    "str(info_df.columns+ \": \"+info_df.T[0].values)"
   ]
  },
  {
   "cell_type": "code",
   "execution_count": 34,
   "id": "81bf27f7",
   "metadata": {},
   "outputs": [
    {
     "data": {
      "text/html": [
       "<div>\n",
       "<style scoped>\n",
       "    .dataframe tbody tr th:only-of-type {\n",
       "        vertical-align: middle;\n",
       "    }\n",
       "\n",
       "    .dataframe tbody tr th {\n",
       "        vertical-align: top;\n",
       "    }\n",
       "\n",
       "    .dataframe thead th {\n",
       "        text-align: right;\n",
       "    }\n",
       "</style>\n",
       "<table border=\"1\" class=\"dataframe\">\n",
       "  <thead>\n",
       "    <tr style=\"text-align: right;\">\n",
       "      <th></th>\n",
       "      <th>Total Revenue</th>\n",
       "      <th>Total Operating Expenses</th>\n",
       "      <th>Gross Profit</th>\n",
       "      <th>Net Income</th>\n",
       "      <th>EBIT</th>\n",
       "      <th>Return On Equity</th>\n",
       "      <th>Forward EPS</th>\n",
       "      <th>Trailing EPS</th>\n",
       "      <th>Earnings Growth</th>\n",
       "      <th>Revenue Per Share</th>\n",
       "      <th>Enterprise Value</th>\n",
       "      <th>Analyst Majority Recommendation</th>\n",
       "    </tr>\n",
       "  </thead>\n",
       "  <tbody>\n",
       "    <tr>\n",
       "      <th>0</th>\n",
       "      <td>$82,959,000,000.00</td>\n",
       "      <td>$59,883,000,000.00</td>\n",
       "      <td>$35,885,000,000.00</td>\n",
       "      <td>$19,442,000,000.00</td>\n",
       "      <td>$23,076,000,000.00</td>\n",
       "      <td>162.816%</td>\n",
       "      <td>$6.44</td>\n",
       "      <td>$6.05</td>\n",
       "      <td>-0.077%</td>\n",
       "      <td>$23.732</td>\n",
       "      <td>$2,569,337,044,992.00</td>\n",
       "      <td>Overweight</td>\n",
       "    </tr>\n",
       "  </tbody>\n",
       "</table>\n",
       "</div>"
      ],
      "text/plain": [
       "        Total Revenue Total Operating Expenses        Gross Profit  \\\n",
       "0  $82,959,000,000.00       $59,883,000,000.00  $35,885,000,000.00   \n",
       "\n",
       "           Net Income                EBIT Return On Equity Forward EPS  \\\n",
       "0  $19,442,000,000.00  $23,076,000,000.00         162.816%       $6.44   \n",
       "\n",
       "  Trailing EPS Earnings Growth Revenue Per Share       Enterprise Value  \\\n",
       "0        $6.05         -0.077%           $23.732  $2,569,337,044,992.00   \n",
       "\n",
       "  Analyst Majority Recommendation  \n",
       "0                      Overweight  "
      ]
     },
     "execution_count": 34,
     "metadata": {},
     "output_type": "execute_result"
    }
   ],
   "source": [
    "info_df"
   ]
  },
  {
   "cell_type": "code",
   "execution_count": 35,
   "id": "fae3a8c2",
   "metadata": {},
   "outputs": [],
   "source": [
    "info_df_transposed = info_df.T.copy()"
   ]
  },
  {
   "cell_type": "code",
   "execution_count": 36,
   "id": "96fb429a",
   "metadata": {},
   "outputs": [
    {
     "data": {
      "text/html": [
       "<div>\n",
       "<style scoped>\n",
       "    .dataframe tbody tr th:only-of-type {\n",
       "        vertical-align: middle;\n",
       "    }\n",
       "\n",
       "    .dataframe tbody tr th {\n",
       "        vertical-align: top;\n",
       "    }\n",
       "\n",
       "    .dataframe thead th {\n",
       "        text-align: right;\n",
       "    }\n",
       "</style>\n",
       "<table border=\"1\" class=\"dataframe\">\n",
       "  <thead>\n",
       "    <tr style=\"text-align: right;\">\n",
       "      <th></th>\n",
       "      <th>0</th>\n",
       "      <th>index</th>\n",
       "    </tr>\n",
       "  </thead>\n",
       "  <tbody>\n",
       "    <tr>\n",
       "      <th>Total Revenue</th>\n",
       "      <td>$82,959,000,000.00</td>\n",
       "      <td>Total Revenue</td>\n",
       "    </tr>\n",
       "    <tr>\n",
       "      <th>Total Operating Expenses</th>\n",
       "      <td>$59,883,000,000.00</td>\n",
       "      <td>Total Operating Expenses</td>\n",
       "    </tr>\n",
       "    <tr>\n",
       "      <th>Gross Profit</th>\n",
       "      <td>$35,885,000,000.00</td>\n",
       "      <td>Gross Profit</td>\n",
       "    </tr>\n",
       "    <tr>\n",
       "      <th>Net Income</th>\n",
       "      <td>$19,442,000,000.00</td>\n",
       "      <td>Net Income</td>\n",
       "    </tr>\n",
       "    <tr>\n",
       "      <th>EBIT</th>\n",
       "      <td>$23,076,000,000.00</td>\n",
       "      <td>EBIT</td>\n",
       "    </tr>\n",
       "    <tr>\n",
       "      <th>Return On Equity</th>\n",
       "      <td>162.816%</td>\n",
       "      <td>Return On Equity</td>\n",
       "    </tr>\n",
       "    <tr>\n",
       "      <th>Forward EPS</th>\n",
       "      <td>$6.44</td>\n",
       "      <td>Forward EPS</td>\n",
       "    </tr>\n",
       "    <tr>\n",
       "      <th>Trailing EPS</th>\n",
       "      <td>$6.05</td>\n",
       "      <td>Trailing EPS</td>\n",
       "    </tr>\n",
       "    <tr>\n",
       "      <th>Earnings Growth</th>\n",
       "      <td>-0.077%</td>\n",
       "      <td>Earnings Growth</td>\n",
       "    </tr>\n",
       "    <tr>\n",
       "      <th>Revenue Per Share</th>\n",
       "      <td>$23.732</td>\n",
       "      <td>Revenue Per Share</td>\n",
       "    </tr>\n",
       "    <tr>\n",
       "      <th>Enterprise Value</th>\n",
       "      <td>$2,569,337,044,992.00</td>\n",
       "      <td>Enterprise Value</td>\n",
       "    </tr>\n",
       "    <tr>\n",
       "      <th>Analyst Majority Recommendation</th>\n",
       "      <td>Overweight</td>\n",
       "      <td>Analyst Majority Recommendation</td>\n",
       "    </tr>\n",
       "  </tbody>\n",
       "</table>\n",
       "</div>"
      ],
      "text/plain": [
       "                                                     0  \\\n",
       "Total Revenue                       $82,959,000,000.00   \n",
       "Total Operating Expenses            $59,883,000,000.00   \n",
       "Gross Profit                        $35,885,000,000.00   \n",
       "Net Income                          $19,442,000,000.00   \n",
       "EBIT                                $23,076,000,000.00   \n",
       "Return On Equity                              162.816%   \n",
       "Forward EPS                                      $6.44   \n",
       "Trailing EPS                                     $6.05   \n",
       "Earnings Growth                                -0.077%   \n",
       "Revenue Per Share                              $23.732   \n",
       "Enterprise Value                 $2,569,337,044,992.00   \n",
       "Analyst Majority Recommendation             Overweight   \n",
       "\n",
       "                                                           index  \n",
       "Total Revenue                                      Total Revenue  \n",
       "Total Operating Expenses                Total Operating Expenses  \n",
       "Gross Profit                                        Gross Profit  \n",
       "Net Income                                            Net Income  \n",
       "EBIT                                                        EBIT  \n",
       "Return On Equity                                Return On Equity  \n",
       "Forward EPS                                          Forward EPS  \n",
       "Trailing EPS                                        Trailing EPS  \n",
       "Earnings Growth                                  Earnings Growth  \n",
       "Revenue Per Share                              Revenue Per Share  \n",
       "Enterprise Value                                Enterprise Value  \n",
       "Analyst Majority Recommendation  Analyst Majority Recommendation  "
      ]
     },
     "execution_count": 36,
     "metadata": {},
     "output_type": "execute_result"
    }
   ],
   "source": [
    "info_df_transposed[\"index\"] = info_df_transposed.index\n",
    "info_df_transposed"
   ]
  },
  {
   "cell_type": "code",
   "execution_count": 37,
   "id": "c6f47ada",
   "metadata": {},
   "outputs": [
    {
     "data": {
      "text/html": [
       "<div>\n",
       "<style scoped>\n",
       "    .dataframe tbody tr th:only-of-type {\n",
       "        vertical-align: middle;\n",
       "    }\n",
       "\n",
       "    .dataframe tbody tr th {\n",
       "        vertical-align: top;\n",
       "    }\n",
       "\n",
       "    .dataframe thead th {\n",
       "        text-align: right;\n",
       "    }\n",
       "</style>\n",
       "<table border=\"1\" class=\"dataframe\">\n",
       "  <thead>\n",
       "    <tr style=\"text-align: right;\">\n",
       "      <th></th>\n",
       "      <th>0</th>\n",
       "      <th>index</th>\n",
       "      <th>combined</th>\n",
       "    </tr>\n",
       "  </thead>\n",
       "  <tbody>\n",
       "    <tr>\n",
       "      <th>Total Revenue</th>\n",
       "      <td>$82,959,000,000.00</td>\n",
       "      <td>Total Revenue</td>\n",
       "      <td>Total Revenue: $82,959,000,000.00</td>\n",
       "    </tr>\n",
       "    <tr>\n",
       "      <th>Total Operating Expenses</th>\n",
       "      <td>$59,883,000,000.00</td>\n",
       "      <td>Total Operating Expenses</td>\n",
       "      <td>Total Operating Expenses: $59,883,000,000.00</td>\n",
       "    </tr>\n",
       "    <tr>\n",
       "      <th>Gross Profit</th>\n",
       "      <td>$35,885,000,000.00</td>\n",
       "      <td>Gross Profit</td>\n",
       "      <td>Gross Profit: $35,885,000,000.00</td>\n",
       "    </tr>\n",
       "    <tr>\n",
       "      <th>Net Income</th>\n",
       "      <td>$19,442,000,000.00</td>\n",
       "      <td>Net Income</td>\n",
       "      <td>Net Income: $19,442,000,000.00</td>\n",
       "    </tr>\n",
       "    <tr>\n",
       "      <th>EBIT</th>\n",
       "      <td>$23,076,000,000.00</td>\n",
       "      <td>EBIT</td>\n",
       "      <td>EBIT: $23,076,000,000.00</td>\n",
       "    </tr>\n",
       "    <tr>\n",
       "      <th>Return On Equity</th>\n",
       "      <td>162.816%</td>\n",
       "      <td>Return On Equity</td>\n",
       "      <td>Return On Equity: 162.816%</td>\n",
       "    </tr>\n",
       "    <tr>\n",
       "      <th>Forward EPS</th>\n",
       "      <td>$6.44</td>\n",
       "      <td>Forward EPS</td>\n",
       "      <td>Forward EPS: $6.44</td>\n",
       "    </tr>\n",
       "    <tr>\n",
       "      <th>Trailing EPS</th>\n",
       "      <td>$6.05</td>\n",
       "      <td>Trailing EPS</td>\n",
       "      <td>Trailing EPS: $6.05</td>\n",
       "    </tr>\n",
       "    <tr>\n",
       "      <th>Earnings Growth</th>\n",
       "      <td>-0.077%</td>\n",
       "      <td>Earnings Growth</td>\n",
       "      <td>Earnings Growth: -0.077%</td>\n",
       "    </tr>\n",
       "    <tr>\n",
       "      <th>Revenue Per Share</th>\n",
       "      <td>$23.732</td>\n",
       "      <td>Revenue Per Share</td>\n",
       "      <td>Revenue Per Share: $23.732</td>\n",
       "    </tr>\n",
       "    <tr>\n",
       "      <th>Enterprise Value</th>\n",
       "      <td>$2,569,337,044,992.00</td>\n",
       "      <td>Enterprise Value</td>\n",
       "      <td>Enterprise Value: $2,569,337,044,992.00</td>\n",
       "    </tr>\n",
       "    <tr>\n",
       "      <th>Analyst Majority Recommendation</th>\n",
       "      <td>Overweight</td>\n",
       "      <td>Analyst Majority Recommendation</td>\n",
       "      <td>Analyst Majority Recommendation: Overweight</td>\n",
       "    </tr>\n",
       "  </tbody>\n",
       "</table>\n",
       "</div>"
      ],
      "text/plain": [
       "                                                     0  \\\n",
       "Total Revenue                       $82,959,000,000.00   \n",
       "Total Operating Expenses            $59,883,000,000.00   \n",
       "Gross Profit                        $35,885,000,000.00   \n",
       "Net Income                          $19,442,000,000.00   \n",
       "EBIT                                $23,076,000,000.00   \n",
       "Return On Equity                              162.816%   \n",
       "Forward EPS                                      $6.44   \n",
       "Trailing EPS                                     $6.05   \n",
       "Earnings Growth                                -0.077%   \n",
       "Revenue Per Share                              $23.732   \n",
       "Enterprise Value                 $2,569,337,044,992.00   \n",
       "Analyst Majority Recommendation             Overweight   \n",
       "\n",
       "                                                           index  \\\n",
       "Total Revenue                                      Total Revenue   \n",
       "Total Operating Expenses                Total Operating Expenses   \n",
       "Gross Profit                                        Gross Profit   \n",
       "Net Income                                            Net Income   \n",
       "EBIT                                                        EBIT   \n",
       "Return On Equity                                Return On Equity   \n",
       "Forward EPS                                          Forward EPS   \n",
       "Trailing EPS                                        Trailing EPS   \n",
       "Earnings Growth                                  Earnings Growth   \n",
       "Revenue Per Share                              Revenue Per Share   \n",
       "Enterprise Value                                Enterprise Value   \n",
       "Analyst Majority Recommendation  Analyst Majority Recommendation   \n",
       "\n",
       "                                                                     combined  \n",
       "Total Revenue                               Total Revenue: $82,959,000,000.00  \n",
       "Total Operating Expenses         Total Operating Expenses: $59,883,000,000.00  \n",
       "Gross Profit                                 Gross Profit: $35,885,000,000.00  \n",
       "Net Income                                     Net Income: $19,442,000,000.00  \n",
       "EBIT                                                 EBIT: $23,076,000,000.00  \n",
       "Return On Equity                                   Return On Equity: 162.816%  \n",
       "Forward EPS                                                Forward EPS: $6.44  \n",
       "Trailing EPS                                              Trailing EPS: $6.05  \n",
       "Earnings Growth                                      Earnings Growth: -0.077%  \n",
       "Revenue Per Share                                  Revenue Per Share: $23.732  \n",
       "Enterprise Value                      Enterprise Value: $2,569,337,044,992.00  \n",
       "Analyst Majority Recommendation   Analyst Majority Recommendation: Overweight  "
      ]
     },
     "execution_count": 37,
     "metadata": {},
     "output_type": "execute_result"
    }
   ],
   "source": [
    "info_df_transposed[\"combined\"] = info_df_transposed[\"index\"] + \": \"+ info_df_transposed[0]\n",
    "info_df_transposed"
   ]
  },
  {
   "cell_type": "code",
   "execution_count": 38,
   "id": "d5a5488b",
   "metadata": {},
   "outputs": [
    {
     "data": {
      "text/plain": [
       "'Total Revenue: $82,959,000,000.00\\nTotal Operating Expenses: $59,883,000,000.00\\nGross Profit: $35,885,000,000.00\\nNet Income: $19,442,000,000.00\\nEBIT: $23,076,000,000.00\\nReturn On Equity: 162.816%\\nForward EPS: $6.44\\nTrailing EPS: $6.05\\nEarnings Growth: -0.077%\\nRevenue Per Share: $23.732\\nEnterprise Value: $2,569,337,044,992.00\\nAnalyst Majority Recommendation: Overweight'"
      ]
     },
     "execution_count": 38,
     "metadata": {},
     "output_type": "execute_result"
    }
   ],
   "source": [
    "'\\n'.join(info_df_transposed[\"combined\"])"
   ]
  },
  {
   "cell_type": "code",
   "execution_count": 39,
   "id": "7d61425d",
   "metadata": {},
   "outputs": [],
   "source": [
    "from yahoo_fin import stock_info as si"
   ]
  },
  {
   "cell_type": "code",
   "execution_count": 40,
   "id": "10ce713c",
   "metadata": {},
   "outputs": [
    {
     "data": {
      "text/html": [
       "<div>\n",
       "<style scoped>\n",
       "    .dataframe tbody tr th:only-of-type {\n",
       "        vertical-align: middle;\n",
       "    }\n",
       "\n",
       "    .dataframe tbody tr th {\n",
       "        vertical-align: top;\n",
       "    }\n",
       "\n",
       "    .dataframe thead th {\n",
       "        text-align: right;\n",
       "    }\n",
       "</style>\n",
       "<table border=\"1\" class=\"dataframe\">\n",
       "  <thead>\n",
       "    <tr style=\"text-align: right;\">\n",
       "      <th></th>\n",
       "      <th>index</th>\n",
       "      <th>value</th>\n",
       "    </tr>\n",
       "  </thead>\n",
       "  <tbody>\n",
       "    <tr>\n",
       "      <th>Total Revenue</th>\n",
       "      <td>Total Revenue</td>\n",
       "      <td>$82,959,000,000.00</td>\n",
       "    </tr>\n",
       "    <tr>\n",
       "      <th>Total Operating Expenses</th>\n",
       "      <td>Total Operating Expenses</td>\n",
       "      <td>$59,883,000,000.00</td>\n",
       "    </tr>\n",
       "    <tr>\n",
       "      <th>Gross Profit</th>\n",
       "      <td>Gross Profit</td>\n",
       "      <td>$35,885,000,000.00</td>\n",
       "    </tr>\n",
       "    <tr>\n",
       "      <th>Net Income</th>\n",
       "      <td>Net Income</td>\n",
       "      <td>$19,442,000,000.00</td>\n",
       "    </tr>\n",
       "    <tr>\n",
       "      <th>EBIT</th>\n",
       "      <td>EBIT</td>\n",
       "      <td>$23,076,000,000.00</td>\n",
       "    </tr>\n",
       "    <tr>\n",
       "      <th>Return On Equity</th>\n",
       "      <td>Return On Equity</td>\n",
       "      <td>162.816%</td>\n",
       "    </tr>\n",
       "    <tr>\n",
       "      <th>Forward EPS</th>\n",
       "      <td>Forward EPS</td>\n",
       "      <td>$6.44</td>\n",
       "    </tr>\n",
       "    <tr>\n",
       "      <th>Trailing EPS</th>\n",
       "      <td>Trailing EPS</td>\n",
       "      <td>$6.05</td>\n",
       "    </tr>\n",
       "    <tr>\n",
       "      <th>Earnings Growth</th>\n",
       "      <td>Earnings Growth</td>\n",
       "      <td>-0.077%</td>\n",
       "    </tr>\n",
       "    <tr>\n",
       "      <th>Revenue Per Share</th>\n",
       "      <td>Revenue Per Share</td>\n",
       "      <td>$23.732</td>\n",
       "    </tr>\n",
       "    <tr>\n",
       "      <th>Enterprise Value</th>\n",
       "      <td>Enterprise Value</td>\n",
       "      <td>$2,569,337,044,992.00</td>\n",
       "    </tr>\n",
       "    <tr>\n",
       "      <th>Analyst Majority Recommendation</th>\n",
       "      <td>Analyst Majority Recommendation</td>\n",
       "      <td>Overweight</td>\n",
       "    </tr>\n",
       "  </tbody>\n",
       "</table>\n",
       "</div>"
      ],
      "text/plain": [
       "                                                           index  \\\n",
       "Total Revenue                                      Total Revenue   \n",
       "Total Operating Expenses                Total Operating Expenses   \n",
       "Gross Profit                                        Gross Profit   \n",
       "Net Income                                            Net Income   \n",
       "EBIT                                                        EBIT   \n",
       "Return On Equity                                Return On Equity   \n",
       "Forward EPS                                          Forward EPS   \n",
       "Trailing EPS                                        Trailing EPS   \n",
       "Earnings Growth                                  Earnings Growth   \n",
       "Revenue Per Share                              Revenue Per Share   \n",
       "Enterprise Value                                Enterprise Value   \n",
       "Analyst Majority Recommendation  Analyst Majority Recommendation   \n",
       "\n",
       "                                                 value  \n",
       "Total Revenue                       $82,959,000,000.00  \n",
       "Total Operating Expenses            $59,883,000,000.00  \n",
       "Gross Profit                        $35,885,000,000.00  \n",
       "Net Income                          $19,442,000,000.00  \n",
       "EBIT                                $23,076,000,000.00  \n",
       "Return On Equity                              162.816%  \n",
       "Forward EPS                                      $6.44  \n",
       "Trailing EPS                                     $6.05  \n",
       "Earnings Growth                                -0.077%  \n",
       "Revenue Per Share                              $23.732  \n",
       "Enterprise Value                 $2,569,337,044,992.00  \n",
       "Analyst Majority Recommendation             Overweight  "
      ]
     },
     "execution_count": 40,
     "metadata": {},
     "output_type": "execute_result"
    }
   ],
   "source": [
    "info_df_transposed = info_df.T.copy()\n",
    "info_df_transposed.columns = [\"value\"]\n",
    "info_df_transposed[\"index\"] = info_df_transposed.index.astype(str)\n",
    "info_df_transposed = info_df_transposed[[\"index\", \"value\"]]\n",
    "info_df_transposed"
   ]
  },
  {
   "cell_type": "code",
   "execution_count": 41,
   "id": "6318f6c5",
   "metadata": {},
   "outputs": [
    {
     "data": {
      "text/html": [
       "<div>\n",
       "<style scoped>\n",
       "    .dataframe tbody tr th:only-of-type {\n",
       "        vertical-align: middle;\n",
       "    }\n",
       "\n",
       "    .dataframe tbody tr th {\n",
       "        vertical-align: top;\n",
       "    }\n",
       "\n",
       "    .dataframe thead th {\n",
       "        text-align: right;\n",
       "    }\n",
       "</style>\n",
       "<table border=\"1\" class=\"dataframe\">\n",
       "  <thead>\n",
       "    <tr style=\"text-align: right;\">\n",
       "      <th></th>\n",
       "      <th>index</th>\n",
       "      <th>value</th>\n",
       "      <th>Combined</th>\n",
       "    </tr>\n",
       "  </thead>\n",
       "  <tbody>\n",
       "    <tr>\n",
       "      <th>Total Revenue</th>\n",
       "      <td>Total Revenue</td>\n",
       "      <td>$82,959,000,000.00</td>\n",
       "      <td>Total Revenue: $82,959,000,000.00</td>\n",
       "    </tr>\n",
       "    <tr>\n",
       "      <th>Total Operating Expenses</th>\n",
       "      <td>Total Operating Expenses</td>\n",
       "      <td>$59,883,000,000.00</td>\n",
       "      <td>Total Operating Expenses: $59,883,000,000.00</td>\n",
       "    </tr>\n",
       "    <tr>\n",
       "      <th>Gross Profit</th>\n",
       "      <td>Gross Profit</td>\n",
       "      <td>$35,885,000,000.00</td>\n",
       "      <td>Gross Profit: $35,885,000,000.00</td>\n",
       "    </tr>\n",
       "    <tr>\n",
       "      <th>Net Income</th>\n",
       "      <td>Net Income</td>\n",
       "      <td>$19,442,000,000.00</td>\n",
       "      <td>Net Income: $19,442,000,000.00</td>\n",
       "    </tr>\n",
       "    <tr>\n",
       "      <th>EBIT</th>\n",
       "      <td>EBIT</td>\n",
       "      <td>$23,076,000,000.00</td>\n",
       "      <td>EBIT: $23,076,000,000.00</td>\n",
       "    </tr>\n",
       "    <tr>\n",
       "      <th>Return On Equity</th>\n",
       "      <td>Return On Equity</td>\n",
       "      <td>162.816%</td>\n",
       "      <td>Return On Equity: 162.816%</td>\n",
       "    </tr>\n",
       "    <tr>\n",
       "      <th>Forward EPS</th>\n",
       "      <td>Forward EPS</td>\n",
       "      <td>$6.44</td>\n",
       "      <td>Forward EPS: $6.44</td>\n",
       "    </tr>\n",
       "    <tr>\n",
       "      <th>Trailing EPS</th>\n",
       "      <td>Trailing EPS</td>\n",
       "      <td>$6.05</td>\n",
       "      <td>Trailing EPS: $6.05</td>\n",
       "    </tr>\n",
       "    <tr>\n",
       "      <th>Earnings Growth</th>\n",
       "      <td>Earnings Growth</td>\n",
       "      <td>-0.077%</td>\n",
       "      <td>Earnings Growth: -0.077%</td>\n",
       "    </tr>\n",
       "    <tr>\n",
       "      <th>Revenue Per Share</th>\n",
       "      <td>Revenue Per Share</td>\n",
       "      <td>$23.732</td>\n",
       "      <td>Revenue Per Share: $23.732</td>\n",
       "    </tr>\n",
       "    <tr>\n",
       "      <th>Enterprise Value</th>\n",
       "      <td>Enterprise Value</td>\n",
       "      <td>$2,569,337,044,992.00</td>\n",
       "      <td>Enterprise Value: $2,569,337,044,992.00</td>\n",
       "    </tr>\n",
       "    <tr>\n",
       "      <th>Analyst Majority Recommendation</th>\n",
       "      <td>Analyst Majority Recommendation</td>\n",
       "      <td>Overweight</td>\n",
       "      <td>Analyst Majority Recommendation: Overweight</td>\n",
       "    </tr>\n",
       "  </tbody>\n",
       "</table>\n",
       "</div>"
      ],
      "text/plain": [
       "                                                           index  \\\n",
       "Total Revenue                                      Total Revenue   \n",
       "Total Operating Expenses                Total Operating Expenses   \n",
       "Gross Profit                                        Gross Profit   \n",
       "Net Income                                            Net Income   \n",
       "EBIT                                                        EBIT   \n",
       "Return On Equity                                Return On Equity   \n",
       "Forward EPS                                          Forward EPS   \n",
       "Trailing EPS                                        Trailing EPS   \n",
       "Earnings Growth                                  Earnings Growth   \n",
       "Revenue Per Share                              Revenue Per Share   \n",
       "Enterprise Value                                Enterprise Value   \n",
       "Analyst Majority Recommendation  Analyst Majority Recommendation   \n",
       "\n",
       "                                                 value  \\\n",
       "Total Revenue                       $82,959,000,000.00   \n",
       "Total Operating Expenses            $59,883,000,000.00   \n",
       "Gross Profit                        $35,885,000,000.00   \n",
       "Net Income                          $19,442,000,000.00   \n",
       "EBIT                                $23,076,000,000.00   \n",
       "Return On Equity                              162.816%   \n",
       "Forward EPS                                      $6.44   \n",
       "Trailing EPS                                     $6.05   \n",
       "Earnings Growth                                -0.077%   \n",
       "Revenue Per Share                              $23.732   \n",
       "Enterprise Value                 $2,569,337,044,992.00   \n",
       "Analyst Majority Recommendation             Overweight   \n",
       "\n",
       "                                                                     Combined  \n",
       "Total Revenue                               Total Revenue: $82,959,000,000.00  \n",
       "Total Operating Expenses         Total Operating Expenses: $59,883,000,000.00  \n",
       "Gross Profit                                 Gross Profit: $35,885,000,000.00  \n",
       "Net Income                                     Net Income: $19,442,000,000.00  \n",
       "EBIT                                                 EBIT: $23,076,000,000.00  \n",
       "Return On Equity                                   Return On Equity: 162.816%  \n",
       "Forward EPS                                                Forward EPS: $6.44  \n",
       "Trailing EPS                                              Trailing EPS: $6.05  \n",
       "Earnings Growth                                      Earnings Growth: -0.077%  \n",
       "Revenue Per Share                                  Revenue Per Share: $23.732  \n",
       "Enterprise Value                      Enterprise Value: $2,569,337,044,992.00  \n",
       "Analyst Majority Recommendation   Analyst Majority Recommendation: Overweight  "
      ]
     },
     "execution_count": 41,
     "metadata": {},
     "output_type": "execute_result"
    }
   ],
   "source": [
    "info_df_transposed['Combined'] = info_df_transposed[info_df_transposed.columns[0:]].apply(\n",
    "        lambda x: ': '.join(x.dropna().astype(str)),\n",
    "        axis=1\n",
    "    )\n",
    "\n",
    "info_df_transposed"
   ]
  },
  {
   "cell_type": "code",
   "execution_count": 42,
   "id": "e2a14eab",
   "metadata": {},
   "outputs": [],
   "source": [
    "def human_format(num):\n",
    "    num = float('{:.3g}'.format(num))\n",
    "    magnitude = 0\n",
    "    while abs(num) >= 1000:\n",
    "        magnitude += 1\n",
    "        num /= 1000.0\n",
    "    return '{}{}'.format('{:f}'.format(num).rstrip('0').rstrip('.'), ['', 'K', 'M', ' B', 'T'][magnitude])"
   ]
  },
  {
   "cell_type": "code",
   "execution_count": 43,
   "id": "307df0fe",
   "metadata": {},
   "outputs": [
    {
     "data": {
      "text/plain": [
       "['$83 B',\n",
       " '$59.9 B',\n",
       " '$35.9 B',\n",
       " 19442000000.0,\n",
       " 23076000000.0,\n",
       " '162.816%',\n",
       " '$6.44',\n",
       " '$6.05',\n",
       " '-0.077%',\n",
       " '$23.732',\n",
       " 2569337044992,\n",
       " 'Overweight']"
      ]
     },
     "execution_count": 43,
     "metadata": {},
     "output_type": "execute_result"
    }
   ],
   "source": [
    "vallist_format = []\n",
    "vallist_format.append('$'+human_format(stock.quarterly_financials[maincol]['Total Revenue']))\n",
    "vallist_format.append('$'+human_format(stock.quarterly_financials[maincol]['Total Operating Expenses']))\n",
    "vallist_format.append('$'+human_format(stock.quarterly_financials[maincol]['Gross Profit']))\n",
    "vallist_format.append(stock.quarterly_financials[maincol]['Net Income'])\n",
    "vallist_format.append(stock.quarterly_financials[maincol]['Ebit'])\n",
    "vallist_format.append(str(stock.info['returnOnEquity']*100)+'%')\n",
    "vallist_format.append('$' + str(stock.info['forwardEps']))\n",
    "vallist_format.append('$' + str(stock.info['trailingEps']))\n",
    "vallist_format.append(str(stock.info['earningsGrowth'])+'%')\n",
    "vallist_format.append('$' + str(stock.info['revenuePerShare']))\n",
    "vallist_format.append(stock.info['enterpriseValue'])\n",
    "vallist_format.append(rec)\n",
    "vallist_format"
   ]
  }
 ],
 "metadata": {
  "kernelspec": {
   "display_name": "Python 3 (ipykernel)",
   "language": "python",
   "name": "python3"
  },
  "language_info": {
   "codemirror_mode": {
    "name": "ipython",
    "version": 3
   },
   "file_extension": ".py",
   "mimetype": "text/x-python",
   "name": "python",
   "nbconvert_exporter": "python",
   "pygments_lexer": "ipython3",
   "version": "3.9.7"
  }
 },
 "nbformat": 4,
 "nbformat_minor": 5
}
